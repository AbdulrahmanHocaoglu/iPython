{
 "cells": [
  {
   "cell_type": "code",
   "execution_count": 21,
   "metadata": {
    "collapsed": true
   },
   "outputs": [],
   "source": [
    "randomNames = [\"Andrew\",\"Angela\",\"Benny\",\"Catherine\",\"Elsa\",\"George\",\"Harald\",\"Hervé\",\"Jean\",\"Michael\",\"Neil\",\"Patricia\",\"Peter\",\"Philip\",\"Roger\"]"
   ]
  },
  {
   "cell_type": "code",
   "execution_count": 22,
   "metadata": {
    "collapsed": false
   },
   "outputs": [
    {
     "name": "stdout",
     "output_type": "stream",
     "text": [
      "[['Patricia', 'Roger'], ['Angela', 'Jean'], ['Catherine', 'Herv\\xc3\\xa9'], ['Philip', 'Angela'], ['Catherine', 'Benny'], ['Benny', 'Andrew'], ['Herv\\xc3\\xa9', 'Roger'], ['Elsa', 'Patricia'], ['Peter', 'Andrew'], ['Benny', 'Roger'], ['Elsa', 'Andrew'], ['Michael', 'Benny'], ['Jean', 'Elsa'], ['Michael', 'Catherine'], ['Benny', 'Philip'], ['Catherine', 'Neil'], ['George', 'Angela'], ['Patricia', 'Elsa'], ['Roger', 'Catherine'], ['Elsa', 'Herv\\xc3\\xa9']]\n"
     ]
    }
   ],
   "source": [
    "# -*- coding: utf-8 -*- \n",
    "import random\n",
    "randomNetwork = []\n",
    "graphsize = 20\n",
    "for x in range(0, graphsize): \n",
    "    randomNetwork.append([random.choice(randomNames),random.choice(randomNames)])\n",
    "print randomNetwork"
   ]
  },
  {
   "cell_type": "code",
   "execution_count": 23,
   "metadata": {
    "collapsed": false
   },
   "outputs": [],
   "source": [
    "import json\n",
    "from IPython.display import HTML\n",
    "\n",
    "\n",
    "nodes = {}\n",
    "links = {}\n",
    "\n",
    "j = \"\" # JSON object\n",
    "j = j + \"{\"    \n",
    "j = j + \"\"\"\\t\"nodes\": [\"\"\"\n",
    "for name in randomNames:\n",
    "    nodes[name] = {}\n",
    "    nodes[name]['name'] = name\n",
    "for n in nodes:\n",
    "    j = j + str(json.dumps(nodes[n])) + \",\\n\"\n",
    "j = j[:-2]\n",
    "j = j + \"\\t],\\n\"\n",
    "j = j + \"\"\"\\t\"links\":[\\n\"\"\"\n",
    "for link in randomNetwork:\n",
    "    links[str(link)] = {}\n",
    "    links[str(link)]['source'] = randomNames.index(link[0])\n",
    "    links[str(link)]['target'] = randomNames.index(link[1])\n",
    "for l in links:\n",
    "    j = j + str(json.dumps(links[l])) + \",\\n\"\n",
    "j = j[:-2]\n",
    "j = j + \"\\t]\\n\"\n",
    "j = j + \"}\"\n",
    "\n"
   ]
  },
  {
   "cell_type": "code",
   "execution_count": 24,
   "metadata": {
    "collapsed": false
   },
   "outputs": [
    {
     "data": {
      "text/html": [
       "\n",
       "<html>\n",
       "  <head>\n",
       "    <script type=\"text/javascript\">\n",
       "        graph = {\t\"nodes\": [{\"name\": \"Philip\"},\n",
       "{\"name\": \"Neil\"},\n",
       "{\"name\": \"Michael\"},\n",
       "{\"name\": \"Elsa\"},\n",
       "{\"name\": \"Catherine\"},\n",
       "{\"name\": \"Andrew\"},\n",
       "{\"name\": \"Angela\"},\n",
       "{\"name\": \"Benny\"},\n",
       "{\"name\": \"Patricia\"},\n",
       "{\"name\": \"Harald\"},\n",
       "{\"name\": \"Herv\\u00e9\"},\n",
       "{\"name\": \"Roger\"},\n",
       "{\"name\": \"Jean\"},\n",
       "{\"name\": \"Peter\"},\n",
       "{\"name\": \"George\"}\t],\n",
       "\t\"links\":[\n",
       "{\"source\": 2, \"target\": 0},\n",
       "{\"source\": 9, \"target\": 2},\n",
       "{\"source\": 14, \"target\": 3},\n",
       "{\"source\": 5, \"target\": 1},\n",
       "{\"source\": 13, \"target\": 1},\n",
       "{\"source\": 11, \"target\": 4},\n",
       "{\"source\": 4, \"target\": 11},\n",
       "{\"source\": 3, \"target\": 7},\n",
       "{\"source\": 8, \"target\": 4},\n",
       "{\"source\": 12, \"target\": 0},\n",
       "{\"source\": 2, \"target\": 13},\n",
       "{\"source\": 9, \"target\": 3},\n",
       "{\"source\": 2, \"target\": 14},\n",
       "{\"source\": 3, \"target\": 10},\n",
       "{\"source\": 4, \"target\": 7},\n",
       "{\"source\": 7, \"target\": 14},\n",
       "{\"source\": 1, \"target\": 8},\n",
       "{\"source\": 3, \"target\": 2},\n",
       "{\"source\": 4, \"target\": 0},\n",
       "{\"source\": 11, \"target\": 14}\t]\n",
       "};\n",
       "    </script>\n",
       "  </head>\n",
       "  <body>\n",
       "      <div id=\"graph\"></div>\n",
       "  </body>\n",
       "</html>"
      ],
      "text/plain": [
       "<IPython.core.display.HTML object>"
      ]
     },
     "execution_count": 24,
     "metadata": {},
     "output_type": "execute_result"
    }
   ],
   "source": [
    "html_code =\"\"\"\n",
    "<html>\n",
    "  <head>\n",
    "    <script type=\"text/javascript\">\n",
    "        graph = %s;\n",
    "    </script>\n",
    "  </head>\n",
    "  <body>\n",
    "      <div id=\"graph\"></div>\n",
    "  </body>\n",
    "</html>\"\"\" % (j)\n",
    "HTML(html_code)"
   ]
  },
  {
   "cell_type": "code",
   "execution_count": 25,
   "metadata": {
    "collapsed": false
   },
   "outputs": [
    {
     "data": {
      "application/javascript": [
       "\n",
       "require.config({paths: {d3: \"http://d3js.org/d3.v3.min\",}});\n",
       "\n",
       "require([\"d3\"], function(d3) {\n",
       "    var width = 960,\n",
       "    height = 500;\n",
       "    var color = d3.scale.category10();\n",
       "\n",
       "    var force = d3.layout.force()\n",
       "        .charge(-120)\n",
       "        .linkDistance(30)\n",
       "        .size([width, height]);\n",
       "    // append SVG to body of index.html with height and width specified above\n",
       "    var svg = d3.select(\"div#graph\").append(\"svg\")\n",
       "        .attr(\"width\", width)\n",
       "        .attr(\"height\", height);\n",
       "\n",
       "    // this actually adheres the data to the force base layout and starts the layout\n",
       "    force\n",
       "        .nodes(graph.nodes)\n",
       "        .links(graph.links)\n",
       "        .start();\n",
       "\n",
       "    var link = svg.selectAll(\".link\").data(graph.links)\n",
       "        .enter().append(\"line\")\n",
       "        .attr(\"class\", \"link\")\n",
       "        .style(\"stroke\", \"#999\")\n",
       "        .style(\"stroke-width\", \".6px\");\n",
       "\n",
       "    // append the nodes with specified data and style properties\n",
       "    var node = svg.selectAll(\".node\").data(graph.nodes)\n",
       "        .enter().append(\"circle\")\n",
       "        .attr(\"class\", \"node\")\n",
       "        .attr(\"r\", 5)\n",
       "        .style(\"stroke\", \"#fff\")\n",
       "        .style(\"stroke-width\", \"1.5px\")\n",
       "        .style(\"fill\", \"steelblue\")\n",
       "        .call(force.drag);\n",
       "    // attach titles to nodes, so when the mouse hovers over the nodes it projects the name\n",
       "    node.append(\"title\")\n",
       "        .text(function(d) { return d.name; });\n",
       "\n",
       "    // this is the main mechanism of the force based diagram\n",
       "    // which moves the nodes and links from their starting and finishing positions\n",
       "    // once it hits equilibrium, it will stop moving the positions\n",
       "    force.on(\"tick\", function() {\n",
       "        link.attr(\"x1\", function(d) { return d.source.x; })\n",
       "            .attr(\"y1\", function(d) { return d.source.y; })\n",
       "            .attr(\"x2\", function(d) { return d.target.x; })\n",
       "            .attr(\"y2\", function(d) { return d.target.y; });\n",
       "        node.attr(\"cx\", function(d) { return d.x; })\n",
       "            .attr(\"cy\", function(d) { return d.y; });\n",
       "    });\n",
       "\n",
       "});"
      ],
      "text/plain": [
       "<IPython.core.display.Javascript object>"
      ]
     },
     "metadata": {},
     "output_type": "display_data"
    }
   ],
   "source": [
    "%%javascript\n",
    "\n",
    "require.config({paths: {d3: \"http://d3js.org/d3.v3.min\",}});\n",
    "\n",
    "require([\"d3\"], function(d3) {\n",
    "    var width = 960,\n",
    "    height = 500;\n",
    "    var color = d3.scale.category10();\n",
    "\n",
    "    var force = d3.layout.force()\n",
    "        .charge(-120)\n",
    "        .linkDistance(30)\n",
    "        .size([width, height]);\n",
    "    // append SVG to body of index.html with height and width specified above\n",
    "    var svg = d3.select(\"div#graph\").append(\"svg\")\n",
    "        .attr(\"width\", width)\n",
    "        .attr(\"height\", height);\n",
    "\n",
    "    // this actually adheres the data to the force base layout and starts the layout\n",
    "    force\n",
    "        .nodes(graph.nodes)\n",
    "        .links(graph.links)\n",
    "        .start();\n",
    "\n",
    "    var link = svg.selectAll(\".link\").data(graph.links)\n",
    "        .enter().append(\"line\")\n",
    "        .attr(\"class\", \"link\")\n",
    "        .style(\"stroke\", \"#999\")\n",
    "        .style(\"stroke-width\", \".6px\");\n",
    "\n",
    "    // append the nodes with specified data and style properties\n",
    "    var node = svg.selectAll(\".node\").data(graph.nodes)\n",
    "        .enter().append(\"circle\")\n",
    "        .attr(\"class\", \"node\")\n",
    "        .attr(\"r\", 5)\n",
    "        .style(\"stroke\", \"#fff\")\n",
    "        .style(\"stroke-width\", \"1.5px\")\n",
    "        .style(\"fill\", \"steelblue\")\n",
    "        .call(force.drag);\n",
    "    // attach titles to nodes, so when the mouse hovers over the nodes it projects the name\n",
    "    node.append(\"title\")\n",
    "        .text(function(d) { return d.name; });\n",
    "\n",
    "    // this is the main mechanism of the force based diagram\n",
    "    // which moves the nodes and links from their starting and finishing positions\n",
    "    // once it hits equilibrium, it will stop moving the positions\n",
    "    force.on(\"tick\", function() {\n",
    "        link.attr(\"x1\", function(d) { return d.source.x; })\n",
    "            .attr(\"y1\", function(d) { return d.source.y; })\n",
    "            .attr(\"x2\", function(d) { return d.target.x; })\n",
    "            .attr(\"y2\", function(d) { return d.target.y; });\n",
    "        node.attr(\"cx\", function(d) { return d.x; })\n",
    "            .attr(\"cy\", function(d) { return d.y; });\n",
    "    });\n",
    "\n",
    "});"
   ]
  }
 ],
 "metadata": {
  "kernelspec": {
   "display_name": "Python 2",
   "language": "python",
   "name": "python2"
  },
  "language_info": {
   "codemirror_mode": {
    "name": "ipython",
    "version": 2
   },
   "file_extension": ".py",
   "mimetype": "text/x-python",
   "name": "python",
   "nbconvert_exporter": "python",
   "pygments_lexer": "ipython2",
   "version": "2.7.10"
  }
 },
 "nbformat": 4,
 "nbformat_minor": 1
}
